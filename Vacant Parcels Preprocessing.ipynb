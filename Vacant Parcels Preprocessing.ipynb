{
 "cells": [
  {
   "cell_type": "markdown",
   "metadata": {},
   "source": [
    "### Import library"
   ]
  },
  {
   "cell_type": "code",
   "execution_count": 1,
   "metadata": {},
   "outputs": [],
   "source": [
    "import pandas as pd\n",
    "import numpy as np\n",
    "import arcpy \n",
    "import os\n",
    "from datetime import datetime\n",
    "from time import strftime\n",
    "import time"
   ]
  },
  {
   "cell_type": "markdown",
   "metadata": {},
   "source": [
    "#### Set Path"
   ]
  },
  {
   "cell_type": "code",
   "execution_count": 2,
   "metadata": {},
   "outputs": [],
   "source": [
    "ProjectGDB =  r\"C:\\\\Users\\\\padu\\Dropbox (UNC Charlotte)\\\\HomingIn\\\\HomingIn.gdb\"\n",
    "arcpy.env.overwriteOutput = True\n",
    "arcpy.env.workspace = ProjectGDB"
   ]
  },
  {
   "cell_type": "code",
   "execution_count": 10,
   "metadata": {},
   "outputs": [
    {
     "name": "stdout",
     "output_type": "stream",
     "text": [
      "2010\n",
      "2011\n",
      "2012\n",
      "2013\n",
      "2014\n",
      "2015\n",
      "2016\n",
      "2017\n",
      "2018\n",
      "2019\n",
      "2020\n"
     ]
    }
   ],
   "source": [
    "year = ['2010','2011','2012','2013','2014','2015','2016','2017','2018','2019','2020']\n",
    "\n",
    "\n",
    "for row in year:\n",
    "    print(row)\n",
    "    \n",
    "    selection = arcpy.management.SelectLayerByAttribute(\"TaxData\" + row, \"NEW_SELECTION\", \n",
    "                                        \"VacantOrIm IN ('VAC') And DescProper IN ('Condominium', 'Manufactured', 'Multi-Family', 'Single-Fam')\",\n",
    "                                        None)\n",
    "    \n",
    "    arcpy.management.FeatureToPoint(selection,\"C:\\\\Users\\\\padu\\\\Dropbox (UNC Charlotte)\\\\Providence Adu’s files\\\\Objective 3\\\\Map\\\\CapitalInvestment.gdb\\\\\"+ \"Vacancy\"+row, \n",
    "                                    \"CENTROID\")"
   ]
  },
  {
   "cell_type": "code",
   "execution_count": 4,
   "metadata": {},
   "outputs": [
    {
     "name": "stdout",
     "output_type": "stream",
     "text": [
      "2014\n"
     ]
    }
   ],
   "source": [
    "year = ['2010','2011','2012','2013','2014','2015','2016','2017','2018','2019','2020']\n",
    "\n",
    "\n",
    "for row in year:\n",
    "    print(row)\n",
    "    \n",
    "    selection = arcpy.management.SelectLayerByAttribute(\"TaxDataNPApt_\"+row, \"NEW_SELECTION\", \"YearBuilt IS NOT NULL\", None)\n",
    "    \n",
    "    arcpy.management.FeatureToPoint(selection,\n",
    "                                    \"C:\\\\Users\\\\padu\\\\Dropbox (UNC Charlotte)\\\\Providence Adu’s files\\\\Objective 3\\\\Map\\\\CapitalInvestment.gdb\\\\\"+ \n",
    "                                    \"AllBuildings\"+row, \n",
    "                                    \"CENTROID\")"
   ]
  },
  {
   "cell_type": "code",
   "execution_count": 4,
   "metadata": {},
   "outputs": [
    {
     "name": "stdout",
     "output_type": "stream",
     "text": [
      "2010\n",
      "2011\n",
      "2012\n",
      "2013\n",
      "2014\n",
      "2015\n",
      "2016\n",
      "2017\n",
      "2018\n",
      "2019\n",
      "2020\n"
     ]
    }
   ],
   "source": [
    "years = ['2010','2011','2012','2013','2014','2015','2016','2017','2018','2019','2020']\n",
    "\n",
    "for year in years:\n",
    "    print(year)\n",
    "    arcpy.management.CopyFeatures(\"ResidentialRenovations\"+year,\n",
    "                               \"C:\\\\Users\\\\padu\\\\Dropbox (UNC Charlotte)\\\\Providence Adu’s files\\\\Objective 3\\\\Map\\\\CapitalInvestment.gdb\\\\\"+\"ResidentialRenovations\"+year,\n",
    "                              '', None, None, None)"
   ]
  },
  {
   "cell_type": "code",
   "execution_count": null,
   "metadata": {},
   "outputs": [],
   "source": [
    "years = ['2010','2011','2012','2013','2014','2015','2016','2017','2018','2019','2020']\n",
    "\n",
    "for row in years:\n",
    "\n",
    "    oldstring = 'Price \"Price\" true true false 8 Double 0 0,Median,#,AllBuildings2010,Price,-1,-1;YearBuilt \"YearBuilt\" true true false 4 Long 0 0,Mean,#,AllBuildings2010,YearBuilt,-1,-1;NetBldgVal \"NetBldgVal\" true true false 8 Double 0 0,Median,#,AllBuildings2010,NetBldgVal,-1,-1;NPA \"NPA\" true true false 4 Long 0 0,First,#,AllBuildings2010,NPA,-1,-1'\n",
    "    string = oldstring.replace('AllBuildings2010','AllBuildings'+str(row))\n",
    "\n",
    "    arcpy.analysis.SpatialJoin(\"NPA\", \"AllBuildings\"+str(row),\n",
    "                               r\"C:\\Users\\padu\\Dropbox (UNC Charlotte)\\Providence Adu’s files\\Objective 3\\Map\\CapitalInvestment.gdb\\NPA_Delete\",\n",
    "                           \"JOIN_ONE_TO_ONE\", \"KEEP_ALL\",string,\n",
    "                           \"INTERSECT\", None, '')\n"
   ]
  },
  {
   "cell_type": "code",
   "execution_count": null,
   "metadata": {},
   "outputs": [],
   "source": []
  }
 ],
 "metadata": {
  "kernelspec": {
   "display_name": "Python 3",
   "language": "python",
   "name": "python3"
  },
  "language_info": {
   "codemirror_mode": {
    "name": "ipython",
    "version": 3
   },
   "file_extension": ".py",
   "mimetype": "text/x-python",
   "name": "python",
   "nbconvert_exporter": "python",
   "pygments_lexer": "ipython3",
   "version": "3.7.9"
  }
 },
 "nbformat": 4,
 "nbformat_minor": 4
}
