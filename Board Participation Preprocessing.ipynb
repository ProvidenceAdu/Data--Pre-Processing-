{
 "cells": [
  {
   "cell_type": "markdown",
   "id": "0be2aa5d",
   "metadata": {},
   "source": [
    "### Import Library"
   ]
  },
  {
   "cell_type": "code",
   "execution_count": 1,
   "id": "96eadbcc",
   "metadata": {},
   "outputs": [],
   "source": [
    "import os\n",
    "import pandas as pd"
   ]
  },
  {
   "cell_type": "markdown",
   "id": "ab1a1d12",
   "metadata": {},
   "source": [
    "### Set Path"
   ]
  },
  {
   "cell_type": "code",
   "execution_count": 2,
   "id": "4a618d2c",
   "metadata": {},
   "outputs": [],
   "source": [
    "path =  \"C:\\\\Users\\\\padu\\\\Desktop\\\\UrbanInstitute\\\\QOL 2023\\\\Board Committee Participation\"\n",
    "os.chdir(path)"
   ]
  },
  {
   "cell_type": "markdown",
   "id": "af196630",
   "metadata": {},
   "source": [
    "### Read Data"
   ]
  },
  {
   "cell_type": "code",
   "execution_count": 3,
   "id": "48a5a74b",
   "metadata": {},
   "outputs": [
    {
     "data": {
      "text/plain": [
       "(Index(['Name', 'Email', 'Primary phone', 'Alternate phone', 'Board name',\n",
       "        'Status', 'District', 'Term', 'Start date', 'End date',\n",
       "        ...\n",
       "        'Orientation Completed', 'Acknowledgement Form',\n",
       "        'Background Check (If Applicable)',\n",
       "        '2019 Economic Interest Disclosure (If Applicable)',\n",
       "        'Replacing (fill in Board Member)', 'Prefix', 'First Name', 'Last Name',\n",
       "        'Middle Initial', 'Suffix'],\n",
       "       dtype='object', length=111),\n",
       " Index(['Name', 'Board name', 'Status', 'District', 'Term', 'Start date',\n",
       "        'End date', 'No recruitment', 'Address line 1', 'Address line 2',\n",
       "        'City', 'State', 'Postal Code', 'Appointing Authority'],\n",
       "       dtype='object'))"
      ]
     },
     "execution_count": 3,
     "metadata": {},
     "output_type": "execute_result"
    }
   ],
   "source": [
    "Charlotte = pd.read_csv('CharlotteRosterFY2023.csv')\n",
    "Meck = pd.read_csv('MecklenburgCountyRosterFY2023.csv')\n",
    "Charlotte.columns, Meck.columns"
   ]
  },
  {
   "cell_type": "code",
   "execution_count": 5,
   "id": "4eb26bc8",
   "metadata": {},
   "outputs": [
    {
     "data": {
      "text/plain": [
       "((380, 111), (301, 14))"
      ]
     },
     "execution_count": 5,
     "metadata": {},
     "output_type": "execute_result"
    }
   ],
   "source": [
    "Charlotte.shape, Meck.shape"
   ]
  },
  {
   "cell_type": "code",
   "execution_count": 4,
   "id": "ed570522",
   "metadata": {},
   "outputs": [],
   "source": [
    "Board = pd.concat([Meck,Charlotte])"
   ]
  },
  {
   "cell_type": "code",
   "execution_count": 6,
   "id": "519ecc9c",
   "metadata": {},
   "outputs": [],
   "source": [
    "BoardParticipants = pd.DataFrame(Board[['Name','Board name','Address line 1',\n",
    "                                        'City','State','Postal Code']])"
   ]
  },
  {
   "cell_type": "code",
   "execution_count": 7,
   "id": "3fd54cca",
   "metadata": {},
   "outputs": [
    {
     "data": {
      "text/plain": [
       "(681, 6)"
      ]
     },
     "execution_count": 7,
     "metadata": {},
     "output_type": "execute_result"
    }
   ],
   "source": [
    "BoardParticipants.shape"
   ]
  },
  {
   "cell_type": "code",
   "execution_count": 8,
   "id": "9409b183",
   "metadata": {},
   "outputs": [],
   "source": [
    "BoardParticipants = BoardParticipants.dropna(subset=['Address line 1'])"
   ]
  },
  {
   "cell_type": "code",
   "execution_count": 9,
   "id": "e36a8795",
   "metadata": {},
   "outputs": [
    {
     "data": {
      "text/plain": [
       "(528, 6)"
      ]
     },
     "execution_count": 9,
     "metadata": {},
     "output_type": "execute_result"
    }
   ],
   "source": [
    "BoardParticipants.shape"
   ]
  },
  {
   "cell_type": "code",
   "execution_count": 10,
   "id": "5a55b746",
   "metadata": {},
   "outputs": [],
   "source": [
    "BoardParticipants.drop_duplicates(['Name', 'City'], inplace=True) "
   ]
  },
  {
   "cell_type": "code",
   "execution_count": 11,
   "id": "77171397",
   "metadata": {},
   "outputs": [
    {
     "data": {
      "text/plain": [
       "(495, 6)"
      ]
     },
     "execution_count": 11,
     "metadata": {},
     "output_type": "execute_result"
    }
   ],
   "source": [
    "BoardParticipants.shape"
   ]
  },
  {
   "cell_type": "code",
   "execution_count": 12,
   "id": "60687c9b",
   "metadata": {},
   "outputs": [],
   "source": [
    "BoardParticipants.to_csv('BoardParticipation2023.csv',index= False)"
   ]
  },
  {
   "cell_type": "code",
   "execution_count": null,
   "id": "af30e1f3",
   "metadata": {},
   "outputs": [],
   "source": []
  }
 ],
 "metadata": {
  "kernelspec": {
   "display_name": "Python 3",
   "language": "python",
   "name": "python3"
  },
  "language_info": {
   "codemirror_mode": {
    "name": "ipython",
    "version": 3
   },
   "file_extension": ".py",
   "mimetype": "text/x-python",
   "name": "python",
   "nbconvert_exporter": "python",
   "pygments_lexer": "ipython3",
   "version": "3.7.9"
  }
 },
 "nbformat": 4,
 "nbformat_minor": 5
}
