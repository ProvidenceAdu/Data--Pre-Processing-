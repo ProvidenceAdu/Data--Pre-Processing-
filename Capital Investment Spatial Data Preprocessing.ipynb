{
 "cells": [
  {
   "cell_type": "markdown",
   "metadata": {},
   "source": [
    "### Import Libraries"
   ]
  },
  {
   "cell_type": "code",
   "execution_count": 1,
   "metadata": {},
   "outputs": [],
   "source": [
    "import pandas as pd\n",
    "import numpy as np\n",
    "import arcpy \n",
    "import os\n",
    "from datetime import datetime\n",
    "from time import strftime\n",
    "import time\n",
    "import glob as gb\n",
    "from functools import reduce"
   ]
  },
  {
   "cell_type": "markdown",
   "metadata": {},
   "source": [
    "### Set Path"
   ]
  },
  {
   "cell_type": "code",
   "execution_count": 2,
   "metadata": {},
   "outputs": [],
   "source": [
    "path = 'C:\\\\Users\\\\padu\\\\Dropbox (UNC Charlotte)\\\\Providence Adu’s files\\\\Objective 3'\n",
    "os.chdir(path)"
   ]
  },
  {
   "cell_type": "code",
   "execution_count": 3,
   "metadata": {},
   "outputs": [],
   "source": [
    "ProjectGDB = 'C:\\\\Users\\\\padu\\\\Dropbox (UNC Charlotte)\\\\Providence Adu’s files\\\\Objective 3\\\\Map\\\\CapitalInvestment.gdb'\n",
    "arcpy.env.overwriteOutput = True\n",
    "arcpy.env.workspace = ProjectGDB"
   ]
  },
  {
   "cell_type": "markdown",
   "metadata": {},
   "source": [
    "### Residential Rezonings"
   ]
  },
  {
   "cell_type": "code",
   "execution_count": null,
   "metadata": {},
   "outputs": [],
   "source": [
    "Years = [2010,2011,2012,2013,2014,2015,2016,2017,2018,2019,2020]\n",
    "\n",
    "for year in Years:\n",
    "    \n",
    "    basemonth = '-01-01'\n",
    "\n",
    "    baseyear = str(year)\n",
    "\n",
    "    basedate = baseyear + basemonth\n",
    "\n",
    "    endmonth = '-12-31'\n",
    "    enddate = baseyear + endmonth\n",
    "    \n",
    "    selection = arcpy.management.SelectLayerByAttribute(\"RezoningsResidential\", \n",
    "                                        \"NEW_SELECTION\",\n",
    "                                        \"Approved >= timestamp \" + \"'\" + basedate + \"'\"+ \" And Approved <= timestamp \" + \"'\"+ enddate +\"'\", \n",
    "                                        None)\n",
    "    arcpy.conversion.FeatureClassToFeatureClass(selection, ProjectGDB, \"ResidentialRezonings_\"+baseyear, '', '', '')\n",
    "    "
   ]
  },
  {
   "cell_type": "markdown",
   "metadata": {},
   "source": [
    "### All Rezonings "
   ]
  },
  {
   "cell_type": "code",
   "execution_count": null,
   "metadata": {},
   "outputs": [],
   "source": [
    "Years = [2010,2011,2012,2013,2014,2015,2016,2017,2018,2019,2020]\n",
    "\n",
    "for year in Years:\n",
    "    \n",
    "    basemonth = '-01-01'\n",
    "\n",
    "    baseyear = str(year)\n",
    "\n",
    "    basedate = baseyear + basemonth\n",
    "\n",
    "    endmonth = '-12-31'\n",
    "    enddate = baseyear + endmonth\n",
    "    \n",
    "    selection = arcpy.management.SelectLayerByAttribute(\"Rezoning_History\", \n",
    "                                        \"NEW_SELECTION\",\n",
    "                                        \"Approved >= timestamp \" + \"'\" + basedate + \"'\"+ \" And Approved <= timestamp \" + \"'\"+ enddate +\"'\", \n",
    "                                        None)\n",
    "    arcpy.conversion.FeatureClassToFeatureClass(selection, ProjectGDB, \"AllRezonings_\"+baseyear, '', '', '')\n",
    "    "
   ]
  },
  {
   "cell_type": "markdown",
   "metadata": {},
   "source": [
    "### Housing Trust Fund"
   ]
  },
  {
   "cell_type": "code",
   "execution_count": null,
   "metadata": {},
   "outputs": [],
   "source": [
    "for year in Years:\n",
    "    fiscalyear = \"Fiscal_Year = \" +str(year)\n",
    "    print(fiscalyear)\n",
    "    selection = arcpy.management.SelectLayerByAttribute(\"HousingTrustFunds\", \"NEW_SELECTION\", fiscalyear, None)\n",
    "    arcpy.conversion.FeatureClassToFeatureClass(selection, ProjectGDB, \"HTF_\"+str(year), '', '', '')"
   ]
  },
  {
   "cell_type": "markdown",
   "metadata": {},
   "source": [
    "### Spatial Join\n",
    "- Residential Construction\n",
    "- Rezoning\n",
    "- HTF"
   ]
  },
  {
   "cell_type": "code",
   "execution_count": null,
   "metadata": {
    "scrolled": false
   },
   "outputs": [],
   "source": [
    "year =['2010','2011','2012','2013','2014','2015','2016','2017','2018','2019','2020']\n",
    "year =['2018','2019','2020']\n",
    "\n",
    "# spatialJoin = 'NPA_HU'\n",
    "# NPA = 'NPA_HU'\n",
    "\n",
    "for row in year:\n",
    "    print(row)\n",
    "    NPA = 'NPA_CLT2'\n",
    "    \n",
    "#     arcpy.management.DeleteField('NPA_HU', 'Join_Count')\n",
    "    \n",
    "    spatialJoin = arcpy.analysis.SpatialJoin('NPA_CLT2', \"NewResidentialConstruction\"+row,\n",
    "                                             'ResJoin'+row, \"JOIN_ONE_TO_ONE\",\n",
    "                                              \"KEEP_ALL\",'',\"COMPLETELY_CONTAINS\", None, '')\n",
    "    \n",
    "    time.sleep(60)\n",
    "    arcpy.AlterField_management(spatialJoin, 'Join_Count', 'NewRes'+row, 'NewRes'+row)\n",
    "        \n",
    "    arcpy.CopyFeatures_management(spatialJoin, NPA)\n",
    "        "
   ]
  },
  {
   "cell_type": "markdown",
   "metadata": {},
   "source": [
    "### HTF"
   ]
  },
  {
   "cell_type": "code",
   "execution_count": null,
   "metadata": {},
   "outputs": [],
   "source": [
    "year =['2010','2011','2012','2013','2014','2015','2016','2017','2018','2019','2020']\n",
    "\n",
    "# spatialJoin = 'NPA_HU'\n",
    "# NPA = 'NPA_HU'\n",
    "\n",
    "for row in year:\n",
    "    print(row)\n",
    "    NPA = 'NPA_CLT2'\n",
    "    \n",
    "#     arcpy.management.DeleteField('NPA_HU', 'Join_Count')\n",
    "    \n",
    "    spatialJoin = arcpy.analysis.SpatialJoin('NPA_CLT2', \"HTF_\"+row,\n",
    "                                             'HTFJoin'+row, \"JOIN_ONE_TO_ONE\",\n",
    "                                              \"KEEP_ALL\",'',\"COMPLETELY_CONTAINS\", None, '')\n",
    "    \n",
    "    time.sleep(60)\n",
    "    arcpy.AlterField_management(spatialJoin, 'Join_Count', 'HTF'+row, 'HTF'+row)\n",
    "        \n",
    "    arcpy.CopyFeatures_management(spatialJoin, NPA)\n",
    "        "
   ]
  },
  {
   "cell_type": "markdown",
   "metadata": {},
   "source": [
    "### Rezoning"
   ]
  },
  {
   "cell_type": "code",
   "execution_count": null,
   "metadata": {},
   "outputs": [],
   "source": [
    "# year =['2010','2011','2012','2013','2014','2015','2016','2017','2018','2019','2020']\n",
    "year =['2018']\n",
    "\n",
    "# spatialJoin = 'NPA_HU'\n",
    "# NPA = 'NPA_HU'\n",
    "\n",
    "for row in year:\n",
    "    print(row)\n",
    "    NPA = 'NPA_CLT2'\n",
    "    \n",
    "#     arcpy.management.DeleteField('NPA_HU', 'Join_Count')\n",
    "    \n",
    "    spatialJoin = arcpy.analysis.SpatialJoin('NPA_CLT2', \"ResidentialRezonings_\"+row,\n",
    "                                             'RezonigJoin'+row, \"JOIN_ONE_TO_ONE\",\n",
    "                                              \"KEEP_ALL\",'',\"COMPLETELY_CONTAINS\", None, '')\n",
    "    \n",
    "    time.sleep(60)\n",
    "    arcpy.AlterField_management(spatialJoin, 'Join_Count', 'ResRezone'+row, 'ResRezone'+row)\n",
    "        \n",
    "    arcpy.CopyFeatures_management(spatialJoin, NPA)\n",
    "        "
   ]
  },
  {
   "cell_type": "markdown",
   "metadata": {},
   "source": [
    "### Vacant Parcels"
   ]
  },
  {
   "cell_type": "code",
   "execution_count": null,
   "metadata": {},
   "outputs": [],
   "source": [
    "year =['2010','2011','2012','2013','2014','2015','2016','2017','2018','2019','2020']\n",
    "year =['2011','2012','2013','2014','2015','2016','2017','2018','2019','2020']\n",
    "\n",
    "# spatialJoin = 'NPA_HU'\n",
    "# NPA = 'NPA_HU'\n",
    "\n",
    "for row in year:\n",
    "    print(row)\n",
    "    NPA = 'NPA_CLT2'\n",
    "    \n",
    "#     arcpy.management.DeleteField('NPA_HU', 'Join_Count')\n",
    "    \n",
    "    spatialJoin = arcpy.analysis.SpatialJoin('NPA_CLT2',  \"Vacancy\"+row,\n",
    "                                             'VacantParcels'+row, \"JOIN_ONE_TO_ONE\",\n",
    "                                              \"KEEP_ALL\",'',\"COMPLETELY_CONTAINS\", None, '')\n",
    "    \n",
    "    time.sleep(80)\n",
    "    arcpy.AlterField_management(spatialJoin, 'Join_Count', 'Vacant'+row, 'Vacant'+row)\n",
    "        \n",
    "    arcpy.CopyFeatures_management(spatialJoin, NPA)\n",
    "        "
   ]
  },
  {
   "cell_type": "markdown",
   "metadata": {},
   "source": [
    "### Single Family Permits"
   ]
  },
  {
   "cell_type": "code",
   "execution_count": null,
   "metadata": {},
   "outputs": [],
   "source": [
    "year =['2010','2011','2012','2013','2014','2015','2016','2017','2018','2019','2020']\n",
    "# # year =['2015','2016','2017','2018','2019','2020']\n",
    "year =['2015']\n",
    "\n",
    "# spatialJoin = 'NPA_HU'\n",
    "# NPA = 'NPA_HU'\n",
    "\n",
    "for row in year:\n",
    "    print(row)\n",
    "    NPA = 'NPA_CLT2'\n",
    "    \n",
    "#     arcpy.management.DeleteField('NPA_HU', 'Join_Count')\n",
    "    \n",
    "    spatialJoin = arcpy.analysis.SpatialJoin('NPA_CLT2',  \"Singlefamily\"+row,\n",
    "                                             \"SinglefamilyPermits\"+row, \"JOIN_ONE_TO_ONE\",\n",
    "                                              \"KEEP_ALL\",'',\"COMPLETELY_CONTAINS\", None, '')\n",
    "    \n",
    "    time.sleep(80)\n",
    "    arcpy.AlterField_management(spatialJoin, 'Join_Count', 'SingleFam'+row, 'SingleFam'+row)\n",
    "        \n",
    "    arcpy.CopyFeatures_management(spatialJoin, NPA)\n",
    "        "
   ]
  },
  {
   "cell_type": "markdown",
   "metadata": {},
   "source": [
    "### Multi Family Permits"
   ]
  },
  {
   "cell_type": "code",
   "execution_count": null,
   "metadata": {},
   "outputs": [],
   "source": [
    "year =['2010','2011','2012','2013','2014','2015','2016','2017','2018','2019','2020']\n",
    "year =['2012']\n",
    "\n",
    "# spatialJoin = 'NPA_HU'\n",
    "# NPA = 'NPA_HU'\n",
    "\n",
    "for row in year:\n",
    "    print(row)\n",
    "    NPA = 'NPA_CLT2'\n",
    "    \n",
    "#     arcpy.management.DeleteField('NPA_HU', 'Join_Count')\n",
    "    \n",
    "    spatialJoin = arcpy.analysis.SpatialJoin('NPA_CLT2',  \"Multifamily\"+row,\n",
    "                                             \"MultifamilyPermits\"+row, \"JOIN_ONE_TO_ONE\",\n",
    "                                              \"KEEP_ALL\",'',\"COMPLETELY_CONTAINS\", None, '')\n",
    "    \n",
    "    time.sleep(90)\n",
    "    arcpy.AlterField_management(spatialJoin, 'Join_Count', 'MultiFam'+row, 'MultiFam'+row)\n",
    "        \n",
    "    arcpy.CopyFeatures_management(spatialJoin, NPA)\n",
    "        "
   ]
  },
  {
   "cell_type": "markdown",
   "metadata": {},
   "source": [
    "### All Rezonings "
   ]
  },
  {
   "cell_type": "code",
   "execution_count": null,
   "metadata": {},
   "outputs": [],
   "source": [
    "NPA = 'NPA_CLT2'\n",
    "\n",
    "spatialJoin = arcpy.analysis.SpatialJoin('NPA_CLT2','AllRezonings2010_2020',\n",
    "                                             'AllRezoningsJoin2010_2020', \"JOIN_ONE_TO_ONE\",\n",
    "                                              \"KEEP_ALL\",'',\"COMPLETELY_CONTAINS\", None, '')\n",
    "    \n",
    "\n",
    "arcpy.AlterField_management(spatialJoin, 'Join_Count', 'AllResRezone2010_2020', 'AllResRezone2010_2020')\n",
    "\n",
    "arcpy.CopyFeatures_management(spatialJoin, NPA)"
   ]
  },
  {
   "cell_type": "markdown",
   "metadata": {},
   "source": [
    "### All Residential Rezonings"
   ]
  },
  {
   "cell_type": "code",
   "execution_count": null,
   "metadata": {},
   "outputs": [],
   "source": [
    "NPA = 'NPA_CLT2'\n",
    "\n",
    "spatialJoin = arcpy.analysis.SpatialJoin('NPA_CLT2','AllResidentialRezonings_2010_2020',\n",
    "                                             'AlRezonigJoin2010_2020', \"JOIN_ONE_TO_ONE\",\n",
    "                                              \"KEEP_ALL\",'',\"COMPLETELY_CONTAINS\", None, '')\n",
    "    \n",
    "\n",
    "arcpy.AlterField_management(spatialJoin, 'Join_Count', 'AllRZ2010_2020', 'AllRZ2010_2020')\n",
    "\n",
    "arcpy.CopyFeatures_management(spatialJoin, NPA)"
   ]
  },
  {
   "cell_type": "markdown",
   "metadata": {},
   "source": [
    "### All Building Permits"
   ]
  },
  {
   "cell_type": "code",
   "execution_count": null,
   "metadata": {},
   "outputs": [],
   "source": [
    "NPA = 'NPA_CLT2'\n",
    "\n",
    "spatialJoin = arcpy.analysis.SpatialJoin('NPA_CLT2','AllBuildingPermits_2010_2020',\n",
    "                                             'AllBpermitsJoin2010_2020', \"JOIN_ONE_TO_ONE\",\n",
    "                                              \"KEEP_ALL\",'',\"COMPLETELY_CONTAINS\", None, '')\n",
    "    \n",
    "\n",
    "arcpy.AlterField_management(spatialJoin, 'Join_Count', 'AllPermits2010_2020', 'AllPermits2010_2020')\n",
    "\n",
    "arcpy.CopyFeatures_management(spatialJoin, NPA)"
   ]
  },
  {
   "cell_type": "markdown",
   "metadata": {},
   "source": [
    "### All Housing Trust Fund"
   ]
  },
  {
   "cell_type": "code",
   "execution_count": null,
   "metadata": {},
   "outputs": [],
   "source": [
    "NPA = 'NPA_CLT2'\n",
    "\n",
    "spatialJoin = arcpy.analysis.SpatialJoin('NPA_CLT2','AllHousingTrustFunds_2010_2020',\n",
    "                                             'AllHTFJoin2010_2020', \"JOIN_ONE_TO_ONE\",\n",
    "                                              \"KEEP_ALL\",'',\"COMPLETELY_CONTAINS\", None, '')\n",
    "    \n",
    "\n",
    "arcpy.AlterField_management(spatialJoin, 'Join_Count', 'AllHTF2010_2020', 'AllHTF2010_2020')\n",
    "\n",
    "arcpy.CopyFeatures_management(spatialJoin, NPA)"
   ]
  },
  {
   "cell_type": "markdown",
   "metadata": {},
   "source": [
    "### All New Residential Constructions"
   ]
  },
  {
   "cell_type": "code",
   "execution_count": null,
   "metadata": {},
   "outputs": [],
   "source": [
    "NPA = 'NPA_CLT2'\n",
    "\n",
    "spatialJoin = arcpy.analysis.SpatialJoin('NPA_CLT2','AllNewResidentialConstructions2010_2020',\n",
    "                                             'AllNRCJoin2010_2020', \"JOIN_ONE_TO_ONE\",\n",
    "                                              \"KEEP_ALL\",'',\"COMPLETELY_CONTAINS\", None, '')\n",
    "    \n",
    "\n",
    "arcpy.AlterField_management(spatialJoin, 'Join_Count', 'AllNewRes2010_2020', 'AllNewRes2010_2020')\n",
    "\n",
    "arcpy.CopyFeatures_management(spatialJoin, NPA)"
   ]
  },
  {
   "cell_type": "code",
   "execution_count": null,
   "metadata": {
    "scrolled": true
   },
   "outputs": [],
   "source": [
    "Fields = arcpy.ListFields('NPAFinal')\n",
    "for row in Fields: \n",
    "    if row.name.startswith('FIRST_') and row.name not in ('FIRST_Shape_Area','FIRST_Shape_Length','FIRST_NPA_ID'):\n",
    "        arcpy.AlterField_management('NPAFinal', row.name, row.name.replace('FIRST_',''), row.name.replace('FIRST_',''))\n",
    "        print(row.name.replace('FIRST_',''))\n",
    "        time.sleep(5)"
   ]
  },
  {
   "cell_type": "markdown",
   "metadata": {},
   "source": [
    "### Year Built"
   ]
  },
  {
   "cell_type": "code",
   "execution_count": null,
   "metadata": {},
   "outputs": [],
   "source": [
    "year =['2010','2011','2012','2013','2014','2015','2016','2017','2018','2019','2020']\n",
    "\n",
    "\n",
    "# spatialJoin = 'NPA_HU'\n",
    "# NPA = 'NPA_HU'\n",
    "\n",
    "for row in year:\n",
    "    print(row)\n",
    "    NPA = 'NPAForJoin'\n",
    "    \n",
    "    arcpy.management.DeleteField(\"YearBuilt\"+row, 'Join_Count')\n",
    "    \n",
    "    spatialJoin = arcpy.analysis.SpatialJoin('NPAForJoin',  \"YearBuilt\"+row,\n",
    "                                             \"BuildingsThirtyYears\"+row, \"JOIN_ONE_TO_ONE\",\n",
    "                                              \"KEEP_ALL\",'',\"COMPLETELY_CONTAINS\", None, '')\n",
    "    \n",
    "    time.sleep(100)\n",
    "    arcpy.AlterField_management(spatialJoin, 'Join_Count', 'YearBuilt'+row, 'YearBuilt'+row)\n",
    "        \n",
    "    arcpy.CopyFeatures_management(spatialJoin, NPA)\n",
    "        "
   ]
  },
  {
   "cell_type": "code",
   "execution_count": null,
   "metadata": {},
   "outputs": [],
   "source": [
    "year =['2010','2011','2012','2013','2014','2015','2016','2017','2018','2019','2020']\n",
    "year =['2014']\n",
    "\n",
    "\n",
    "# spatialJoin = 'NPA_HU'\n",
    "# NPA = 'NPA_HU'\n",
    "\n",
    "for row in year:\n",
    "    print(row)\n",
    "    NPA = 'NPA_30Years'\n",
    "    \n",
    "    arcpy.management.DeleteField(\"AllBuildings\"+row, 'Join_Count')\n",
    "#     arcpy.management.DeleteField(\"NPA_30Years\", 'AllYears2014')\n",
    "    \n",
    "    \n",
    "    spatialJoin = arcpy.analysis.SpatialJoin('NPA_30Years',  \"AllBuildings\"+row,\n",
    "                                             \"BuildingsAllYears\"+row, \"JOIN_ONE_TO_ONE\",\n",
    "                                              \"KEEP_ALL\",'',\"COMPLETELY_CONTAINS\", None, '')\n",
    "    \n",
    "    time.sleep(100)\n",
    "    arcpy.AlterField_management(spatialJoin, 'Join_Count', 'AllYears'+row, 'AllYears'+row)\n",
    "        \n",
    "    arcpy.CopyFeatures_management(spatialJoin, NPA)\n",
    "        "
   ]
  },
  {
   "cell_type": "markdown",
   "metadata": {},
   "source": [
    "### Residential Renovations"
   ]
  },
  {
   "cell_type": "code",
   "execution_count": null,
   "metadata": {},
   "outputs": [],
   "source": [
    "year =['2010','2011','2012','2013','2014','2015','2016','2017','2018','2019','2020']\n",
    "year =['2015','2016','2017','2018','2019','2020']\n",
    "\n",
    "\n",
    "\n",
    "# spatialJoin = 'NPA_HU'\n",
    "# NPA = 'NPA_HU'\n",
    "\n",
    "for row in year:\n",
    "    print(row)\n",
    "    NPA = 'NPAReno'\n",
    "    \n",
    "    arcpy.management.DeleteField(\"ResidentialRenovations\"+row, 'Join_Count')\n",
    "#     arcpy.management.DeleteField(\"NPA_30Years\", 'AllYears2014')\n",
    "    \n",
    "    \n",
    "    spatialJoin = arcpy.analysis.SpatialJoin('NPAReno',  \"ResidentialRenovations\"+row,\n",
    "                                             \"BuildingsAllYears\"+row, \"JOIN_ONE_TO_ONE\",\n",
    "                                              \"KEEP_ALL\",'',\"COMPLETELY_CONTAINS\", None, '')\n",
    "    \n",
    "    time.sleep(100)\n",
    "    arcpy.AlterField_management(spatialJoin, 'Join_Count', 'ResReno'+row, 'ResReno'+row)\n",
    "        \n",
    "    arcpy.CopyFeatures_management(spatialJoin, NPA)\n",
    "        "
   ]
  },
  {
   "cell_type": "code",
   "execution_count": null,
   "metadata": {},
   "outputs": [],
   "source": [
    "years = ['2010','2011','2012','2013','2014','2015','2016','2017','2018','2019','2020']\n",
    "years = ['2019','2020']\n",
    "\n",
    "for row in years:\n",
    "    print(row)\n",
    "    \n",
    "    NPA = 'NPA_IV'\n",
    "    \n",
    "    arcpy.management.DeleteField(\"AllBuildings\"+row, 'Join_Count')\n",
    "    \n",
    "\n",
    "    oldstring = 'Price \"Price\" true true false 8 Double 0 0,Median,#,AllBuildings2010,Price,-1,-1;YearBuilt \"YearBuilt\" true true false 4 Long 0 0,Mean,#,AllBuildings2010,YearBuilt,-1,-1;NetBldgVal \"NetBldgVal\" true true false 8 Double 0 0,Median,#,AllBuildings2010,NetBldgVal,-1,-1;NPA \"NPA\" true true false 4 Long 0 0,First,#,AllBuildings2010,NPA,-1,-1'\n",
    "    string = oldstring.replace('AllBuildings2010','AllBuildings'+str(row))\n",
    "\n",
    "    spatialJoin = arcpy.analysis.SpatialJoin(\"NPA_IV\", \"AllBuildings\"+str(row),\"Homesales\"+row, \"JOIN_ONE_TO_ONE\",\n",
    "                               \"KEEP_ALL\",string,\"COMPLETELY_CONTAINS\", None, '')\n",
    "    \n",
    "    time.sleep(10)\n",
    "    arcpy.AlterField_management(spatialJoin, 'Price', 'Price'+row, 'Price'+row)\n",
    "    time.sleep(5)\n",
    "    arcpy.AlterField_management(spatialJoin, 'YearBuilt', 'YearBuilt'+row, 'YearBuilt'+row)\n",
    "    time.sleep(5)\n",
    "    arcpy.AlterField_management(spatialJoin, 'NetBldgVal', 'NetBldgVal'+row, 'NetBldgVal'+row)\n",
    "    time.sleep(10)   \n",
    "    arcpy.CopyFeatures_management(spatialJoin, NPA)\n",
    "        \n"
   ]
  },
  {
   "cell_type": "code",
   "execution_count": 7,
   "metadata": {},
   "outputs": [
    {
     "name": "stdout",
     "output_type": "stream",
     "text": [
      "2016\n"
     ]
    }
   ],
   "source": [
    "years = ['2010','2011','2012','2013','2014','2015','2016','2017','2018','2019','2020']\n",
    "years = ['2016']\n",
    "\n",
    "for year in years:\n",
    "    \n",
    "    print(year)\n",
    "\n",
    "    NPA = 'NPASingleFamily'\n",
    "    \n",
    "    time.sleep(10)\n",
    "\n",
    "    selection = arcpy.management.SelectLayerByAttribute(\"AllBuildings\"+str(year), \"NEW_SELECTION\", \n",
    "                                                        \"DescProper IN ('Single-Fam')\", None)\n",
    "\n",
    "    time.sleep(10)\n",
    "    spatialJoin = arcpy.analysis.SpatialJoin(\"NPASingleFamily\", selection,\"SingleFamilyUnits\"+year, \"JOIN_ONE_TO_ONE\",\n",
    "                                   \"KEEP_ALL\",'',\"COMPLETELY_CONTAINS\", None, '')\n",
    "\n",
    "    arcpy.AlterField_management(spatialJoin, 'Join_Count', 'SFUnits'+year, 'SFUnits'+year)\n",
    "    \n",
    "    time.sleep(10)\n",
    "\n",
    "    arcpy.CopyFeatures_management(spatialJoin, NPA)"
   ]
  },
  {
   "cell_type": "markdown",
   "metadata": {},
   "source": [
    "#### Commenting Homesales export Out  Sep/2023"
   ]
  },
  {
   "cell_type": "code",
   "execution_count": 5,
   "metadata": {},
   "outputs": [],
   "source": [
    "# years = ['2010','2011','2012','2013','2014','2015','2016','2017','2018','2019','2020']\n",
    "\n",
    "# for year in years:\n",
    "#     print(year)\n",
    "    \n",
    "#     arcpy.conversion.TableToTable(\"Homesales\"+year,\n",
    "#                                   r\"C:\\Users\\padu\\Dropbox (UNC Charlotte)\\Providence Adu’s files\\Objective 3\\Map\",\n",
    "#                                   \"Homesales\" + year + \".csv\", '',\n",
    "#                                   '', '')\n"
   ]
  },
  {
   "cell_type": "code",
   "execution_count": 19,
   "metadata": {},
   "outputs": [],
   "source": [
    "# path = 'C:\\\\Users\\\\padu\\\\Dropbox (UNC Charlotte)\\\\Providence Adu’s files\\\\Objective 3\\\\Map\\\\Homesales'\n",
    "# os.chdir(path)"
   ]
  },
  {
   "cell_type": "code",
   "execution_count": 29,
   "metadata": {},
   "outputs": [],
   "source": [
    "# All = gb.glob(path + \"/*.csv\")\n",
    "# All"
   ]
  },
  {
   "cell_type": "code",
   "execution_count": 30,
   "metadata": {},
   "outputs": [],
   "source": [
    "# results = [pd.read_csv(csv) for csv in All ]"
   ]
  },
  {
   "cell_type": "code",
   "execution_count": 31,
   "metadata": {},
   "outputs": [],
   "source": [
    "# Data = reduce(lambda right, left: pd.merge(right,left, on ='NPA'), results)"
   ]
  },
  {
   "cell_type": "code",
   "execution_count": 32,
   "metadata": {},
   "outputs": [],
   "source": [
    "# Unnamed = []\n",
    "\n",
    "# for row in Data:\n",
    "#     if row.startswith('OID') or row.startswith('Join_Count') or row.startswith('TARGET_FID') or row.startswith('Shape'):\n",
    "#         Unnamed.append(row)\n",
    "# print(Unnamed) \n",
    "# Data.drop(Unnamed, axis = 1,inplace = True)"
   ]
  },
  {
   "cell_type": "code",
   "execution_count": 28,
   "metadata": {},
   "outputs": [],
   "source": [
    "# Data.to_csv('NetBldgValuePrice.csv', index = False)"
   ]
  },
  {
   "cell_type": "code",
   "execution_count": null,
   "metadata": {},
   "outputs": [],
   "source": []
  }
 ],
 "metadata": {
  "kernelspec": {
   "display_name": "Python 3",
   "language": "python",
   "name": "python3"
  },
  "language_info": {
   "codemirror_mode": {
    "name": "ipython",
    "version": 3
   },
   "file_extension": ".py",
   "mimetype": "text/x-python",
   "name": "python",
   "nbconvert_exporter": "python",
   "pygments_lexer": "ipython3",
   "version": "3.7.9"
  }
 },
 "nbformat": 4,
 "nbformat_minor": 4
}
