{
 "cells": [
  {
   "cell_type": "code",
   "execution_count": 1,
   "metadata": {},
   "outputs": [],
   "source": [
    "import requests\n",
    "import time\n",
    "from bs4 import BeautifulSoup\n",
    "from random import sample \n",
    "import re\n",
    "import glob as gb\n",
    "import pandas as pd \n",
    "import shutil as sh\n",
    "import os\n",
    "# from selenium import webdriver\n",
    "import json\n",
    "import csv\n",
    "from datetime import datetime"
   ]
  },
  {
   "cell_type": "code",
   "execution_count": 2,
   "metadata": {},
   "outputs": [],
   "source": [
    "path = \"C:\\\\Users\\\\padu\\\\Desktop\\\\ResearchCollab\\\\Tonaton\\\\\"\n",
    "os.chdir(path)"
   ]
  },
  {
   "cell_type": "code",
   "execution_count": 3,
   "metadata": {},
   "outputs": [
    {
     "data": {
      "text/plain": [
       "['C:\\\\Users\\\\padu\\\\Desktop\\\\ResearchCollab\\\\Tonaton\\\\JijiAccra2021_2021_07_25.csv',\n",
       " 'C:\\\\Users\\\\padu\\\\Desktop\\\\ResearchCollab\\\\Tonaton\\\\JijiAccra2021_2021_07_27.csv',\n",
       " 'C:\\\\Users\\\\padu\\\\Desktop\\\\ResearchCollab\\\\Tonaton\\\\JijiAccra2021_2021_07_27_23.csv',\n",
       " 'C:\\\\Users\\\\padu\\\\Desktop\\\\ResearchCollab\\\\Tonaton\\\\JijiAccra2021_2021_07_29_04.csv',\n",
       " 'C:\\\\Users\\\\padu\\\\Desktop\\\\ResearchCollab\\\\Tonaton\\\\JijiAccra2021_2021_07_30_02.csv',\n",
       " 'C:\\\\Users\\\\padu\\\\Desktop\\\\ResearchCollab\\\\Tonaton\\\\JijiAccra2021_2021_07_31_07.csv',\n",
       " 'C:\\\\Users\\\\padu\\\\Desktop\\\\ResearchCollab\\\\Tonaton\\\\JijiAccra2021_2021_08_01_16.csv',\n",
       " 'C:\\\\Users\\\\padu\\\\Desktop\\\\ResearchCollab\\\\Tonaton\\\\JijiAccra2021_2021_08_03_07.csv',\n",
       " 'C:\\\\Users\\\\padu\\\\Desktop\\\\ResearchCollab\\\\Tonaton\\\\JijiAccra2021_2021_08_04_08.csv',\n",
       " 'C:\\\\Users\\\\padu\\\\Desktop\\\\ResearchCollab\\\\Tonaton\\\\JijiAccra2021_2021_08_06_08.csv',\n",
       " 'C:\\\\Users\\\\padu\\\\Desktop\\\\ResearchCollab\\\\Tonaton\\\\JijiAccra2021_2021_08_08_03.csv',\n",
       " 'C:\\\\Users\\\\padu\\\\Desktop\\\\ResearchCollab\\\\Tonaton\\\\JijiAccra2021_2021_08_17_07.csv',\n",
       " 'C:\\\\Users\\\\padu\\\\Desktop\\\\ResearchCollab\\\\Tonaton\\\\JijiAccra2021_2021_08_20_06.csv',\n",
       " 'C:\\\\Users\\\\padu\\\\Desktop\\\\ResearchCollab\\\\Tonaton\\\\JijiAccra2021_2021_08_25_08.csv',\n",
       " 'C:\\\\Users\\\\padu\\\\Desktop\\\\ResearchCollab\\\\Tonaton\\\\JijiAccra2021_2021_08_29_12.csv',\n",
       " 'C:\\\\Users\\\\padu\\\\Desktop\\\\ResearchCollab\\\\Tonaton\\\\JijiAccra2021_2021_12_17_23.csv',\n",
       " 'C:\\\\Users\\\\padu\\\\Desktop\\\\ResearchCollab\\\\Tonaton\\\\JijiAccra2021_2022_01_05_11.csv',\n",
       " 'C:\\\\Users\\\\padu\\\\Desktop\\\\ResearchCollab\\\\Tonaton\\\\JijiAccra2021_2022_01_06_23.csv',\n",
       " 'C:\\\\Users\\\\padu\\\\Desktop\\\\ResearchCollab\\\\Tonaton\\\\JijiAccra2021_2022_01_14_21.csv',\n",
       " 'C:\\\\Users\\\\padu\\\\Desktop\\\\ResearchCollab\\\\Tonaton\\\\JijiAccra2021_2022_01_26_08.csv',\n",
       " 'C:\\\\Users\\\\padu\\\\Desktop\\\\ResearchCollab\\\\Tonaton\\\\JijiAccra2021_2022_01_27_07.csv',\n",
       " 'C:\\\\Users\\\\padu\\\\Desktop\\\\ResearchCollab\\\\Tonaton\\\\JijiAccra2021_2022_02_02_11.csv',\n",
       " 'C:\\\\Users\\\\padu\\\\Desktop\\\\ResearchCollab\\\\Tonaton\\\\JijiAccra2021_2022_02_03_08.csv',\n",
       " 'C:\\\\Users\\\\padu\\\\Desktop\\\\ResearchCollab\\\\Tonaton\\\\JijiAccra2021_2022_02_07_10.csv',\n",
       " 'C:\\\\Users\\\\padu\\\\Desktop\\\\ResearchCollab\\\\Tonaton\\\\JijiAccra2021_2022_02_09_13.csv',\n",
       " 'C:\\\\Users\\\\padu\\\\Desktop\\\\ResearchCollab\\\\Tonaton\\\\JijiAccra2021_2022_02_12_02.csv',\n",
       " 'C:\\\\Users\\\\padu\\\\Desktop\\\\ResearchCollab\\\\Tonaton\\\\JijiAccra2021_2022_02_16_12.csv',\n",
       " 'C:\\\\Users\\\\padu\\\\Desktop\\\\ResearchCollab\\\\Tonaton\\\\JijiAccra2021_2022_02_22_06.csv',\n",
       " 'C:\\\\Users\\\\padu\\\\Desktop\\\\ResearchCollab\\\\Tonaton\\\\JijiAccra2021_2022_03_01_07.csv',\n",
       " 'C:\\\\Users\\\\padu\\\\Desktop\\\\ResearchCollab\\\\Tonaton\\\\JijiAccra2021_2022_03_03_04.csv',\n",
       " 'C:\\\\Users\\\\padu\\\\Desktop\\\\ResearchCollab\\\\Tonaton\\\\JijiAccra2021_2022_03_06_07.csv',\n",
       " 'C:\\\\Users\\\\padu\\\\Desktop\\\\ResearchCollab\\\\Tonaton\\\\JijiAccra2021_2022_03_10_10.csv',\n",
       " 'C:\\\\Users\\\\padu\\\\Desktop\\\\ResearchCollab\\\\Tonaton\\\\JijiAccra2021_2022_03_22_07.csv',\n",
       " 'C:\\\\Users\\\\padu\\\\Desktop\\\\ResearchCollab\\\\Tonaton\\\\JijiAccraFinal.csv']"
      ]
     },
     "execution_count": 3,
     "metadata": {},
     "output_type": "execute_result"
    }
   ],
   "source": [
    "All = gb.glob(path + \"/JijiAccra*.csv\")\n",
    "All"
   ]
  },
  {
   "cell_type": "code",
   "execution_count": 4,
   "metadata": {},
   "outputs": [],
   "source": [
    "Jiji = (pd.read_csv(file) for file in All)\n",
    "Jiji  = pd.concat(Jiji, ignore_index=True)"
   ]
  },
  {
   "cell_type": "code",
   "execution_count": 5,
   "metadata": {},
   "outputs": [
    {
     "data": {
      "text/plain": [
       "(181288, 13)"
      ]
     },
     "execution_count": 5,
     "metadata": {},
     "output_type": "execute_result"
    }
   ],
   "source": [
    "Jiji.shape"
   ]
  },
  {
   "cell_type": "code",
   "execution_count": 6,
   "metadata": {},
   "outputs": [],
   "source": [
    "Jiji.drop('Unnamed: 0',axis = 1, inplace = True)"
   ]
  },
  {
   "cell_type": "code",
   "execution_count": 7,
   "metadata": {},
   "outputs": [
    {
     "data": {
      "text/plain": [
       "Index(['AddressID', 'Bathrooms', 'Bedrooms', 'Amenities', 'Propertyaddress',\n",
       "       'AddressRegion', 'Address', 'Title', 'Description', 'Date Posted',\n",
       "       'Price', 'URL'],\n",
       "      dtype='object')"
      ]
     },
     "execution_count": 7,
     "metadata": {},
     "output_type": "execute_result"
    }
   ],
   "source": [
    "Jiji.columns"
   ]
  },
  {
   "cell_type": "code",
   "execution_count": 8,
   "metadata": {},
   "outputs": [],
   "source": [
    "Jiji.drop_duplicates(subset = ['Title','Price'], inplace = True)"
   ]
  },
  {
   "cell_type": "code",
   "execution_count": 9,
   "metadata": {},
   "outputs": [
    {
     "data": {
      "text/plain": [
       "(10420, 12)"
      ]
     },
     "execution_count": 9,
     "metadata": {},
     "output_type": "execute_result"
    }
   ],
   "source": [
    "Jiji.shape"
   ]
  },
  {
   "cell_type": "code",
   "execution_count": 10,
   "metadata": {},
   "outputs": [],
   "source": [
    "path = \"C:\\\\Users\\\\padu\\\\Desktop\\\\ResearchCollab\\\\Tonaton\\\\Final\"\n",
    "os.chdir(path)"
   ]
  },
  {
   "cell_type": "code",
   "execution_count": 11,
   "metadata": {},
   "outputs": [],
   "source": [
    "Jiji.to_csv(\"JijiAccraFinal.csv\",index = False)"
   ]
  },
  {
   "cell_type": "markdown",
   "metadata": {},
   "source": [
    "####  Ashanti"
   ]
  },
  {
   "cell_type": "code",
   "execution_count": 12,
   "metadata": {},
   "outputs": [],
   "source": [
    "path = \"C:\\\\Users\\\\padu\\\\Desktop\\\\ResearchCollab\\\\Tonaton\\\\\"\n",
    "os.chdir(path)"
   ]
  },
  {
   "cell_type": "code",
   "execution_count": 13,
   "metadata": {},
   "outputs": [
    {
     "data": {
      "text/plain": [
       "['C:\\\\Users\\\\padu\\\\Desktop\\\\ResearchCollab\\\\Tonaton\\\\JijiKumasi_2021_07_25.csv',\n",
       " 'C:\\\\Users\\\\padu\\\\Desktop\\\\ResearchCollab\\\\Tonaton\\\\JijiKumasi_2021_07_26.csv',\n",
       " 'C:\\\\Users\\\\padu\\\\Desktop\\\\ResearchCollab\\\\Tonaton\\\\JijiKumasi_2021_07_27.csv',\n",
       " 'C:\\\\Users\\\\padu\\\\Desktop\\\\ResearchCollab\\\\Tonaton\\\\JijiKumasi_2021_07_28_01.csv',\n",
       " 'C:\\\\Users\\\\padu\\\\Desktop\\\\ResearchCollab\\\\Tonaton\\\\JijiKumasi_2021_07_29_07.csv',\n",
       " 'C:\\\\Users\\\\padu\\\\Desktop\\\\ResearchCollab\\\\Tonaton\\\\JijiKumasi_2021_07_30_04.csv',\n",
       " 'C:\\\\Users\\\\padu\\\\Desktop\\\\ResearchCollab\\\\Tonaton\\\\JijiKumasi_2021_07_31_13.csv',\n",
       " 'C:\\\\Users\\\\padu\\\\Desktop\\\\ResearchCollab\\\\Tonaton\\\\JijiKumasi_2021_08_01_21.csv',\n",
       " 'C:\\\\Users\\\\padu\\\\Desktop\\\\ResearchCollab\\\\Tonaton\\\\JijiKumasi_2021_08_03_13.csv',\n",
       " 'C:\\\\Users\\\\padu\\\\Desktop\\\\ResearchCollab\\\\Tonaton\\\\JijiKumasi_2021_08_04_14.csv',\n",
       " 'C:\\\\Users\\\\padu\\\\Desktop\\\\ResearchCollab\\\\Tonaton\\\\JijiKumasi_2021_08_06_11.csv',\n",
       " 'C:\\\\Users\\\\padu\\\\Desktop\\\\ResearchCollab\\\\Tonaton\\\\JijiKumasi_2021_08_08_06.csv',\n",
       " 'C:\\\\Users\\\\padu\\\\Desktop\\\\ResearchCollab\\\\Tonaton\\\\JijiKumasi_2021_08_17_10.csv',\n",
       " 'C:\\\\Users\\\\padu\\\\Desktop\\\\ResearchCollab\\\\Tonaton\\\\JijiKumasi_2021_08_20_09.csv',\n",
       " 'C:\\\\Users\\\\padu\\\\Desktop\\\\ResearchCollab\\\\Tonaton\\\\JijiKumasi_2021_08_25_11.csv',\n",
       " 'C:\\\\Users\\\\padu\\\\Desktop\\\\ResearchCollab\\\\Tonaton\\\\JijiKumasi_2021_12_18_02.csv',\n",
       " 'C:\\\\Users\\\\padu\\\\Desktop\\\\ResearchCollab\\\\Tonaton\\\\JijiKumasi_2022_01_15_00.csv',\n",
       " 'C:\\\\Users\\\\padu\\\\Desktop\\\\ResearchCollab\\\\Tonaton\\\\JijiKumasi_2022_01_27_11.csv',\n",
       " 'C:\\\\Users\\\\padu\\\\Desktop\\\\ResearchCollab\\\\Tonaton\\\\JijiKumasi_2022_02_03_10.csv',\n",
       " 'C:\\\\Users\\\\padu\\\\Desktop\\\\ResearchCollab\\\\Tonaton\\\\JijiKumasi_2022_02_09_23.csv',\n",
       " 'C:\\\\Users\\\\padu\\\\Desktop\\\\ResearchCollab\\\\Tonaton\\\\JijiKumasi_2022_02_13_13.csv',\n",
       " 'C:\\\\Users\\\\padu\\\\Desktop\\\\ResearchCollab\\\\Tonaton\\\\JijiKumasi_2022_02_16_16.csv',\n",
       " 'C:\\\\Users\\\\padu\\\\Desktop\\\\ResearchCollab\\\\Tonaton\\\\JijiKumasi_2022_02_22_10.csv',\n",
       " 'C:\\\\Users\\\\padu\\\\Desktop\\\\ResearchCollab\\\\Tonaton\\\\JijiKumasi_2022_03_01_12.csv',\n",
       " 'C:\\\\Users\\\\padu\\\\Desktop\\\\ResearchCollab\\\\Tonaton\\\\JijiKumasi_2022_03_03_10.csv',\n",
       " 'C:\\\\Users\\\\padu\\\\Desktop\\\\ResearchCollab\\\\Tonaton\\\\JijiKumasi_2022_03_07_10.csv',\n",
       " 'C:\\\\Users\\\\padu\\\\Desktop\\\\ResearchCollab\\\\Tonaton\\\\JijiKumasi_2022_03_10_14.csv',\n",
       " 'C:\\\\Users\\\\padu\\\\Desktop\\\\ResearchCollab\\\\Tonaton\\\\JijiKumasi_2022_03_22_11.csv']"
      ]
     },
     "execution_count": 13,
     "metadata": {},
     "output_type": "execute_result"
    }
   ],
   "source": [
    "All = gb.glob(path + \"/JijiKumasi*.csv\")\n",
    "All"
   ]
  },
  {
   "cell_type": "code",
   "execution_count": 14,
   "metadata": {},
   "outputs": [],
   "source": [
    "JijiAsh = (pd.read_csv(file) for file in All)\n",
    "JijiAshanti  = pd.concat(JijiAsh, ignore_index=True)"
   ]
  },
  {
   "cell_type": "code",
   "execution_count": 15,
   "metadata": {},
   "outputs": [],
   "source": [
    "JijiAshanti.drop('Unnamed: 0',axis = 1, inplace = True)"
   ]
  },
  {
   "cell_type": "code",
   "execution_count": 16,
   "metadata": {
    "scrolled": true
   },
   "outputs": [
    {
     "data": {
      "text/plain": [
       "Index(['AddressID', 'Bathrooms', 'Bedrooms', 'Amenities', 'Propertyaddress',\n",
       "       'AddressRegion', 'Address', 'Title', 'Description', 'Date Posted',\n",
       "       'Price', 'URL'],\n",
       "      dtype='object')"
      ]
     },
     "execution_count": 16,
     "metadata": {},
     "output_type": "execute_result"
    }
   ],
   "source": [
    "JijiAshanti.columns"
   ]
  },
  {
   "cell_type": "code",
   "execution_count": 17,
   "metadata": {},
   "outputs": [],
   "source": [
    "JijiAshanti.drop_duplicates(subset = ['Title','Price'], inplace = True)"
   ]
  },
  {
   "cell_type": "code",
   "execution_count": 18,
   "metadata": {},
   "outputs": [],
   "source": [
    "path = \"C:\\\\Users\\\\padu\\\\Desktop\\\\ResearchCollab\\\\Tonaton\\\\Final\"\n",
    "os.chdir(path)"
   ]
  },
  {
   "cell_type": "code",
   "execution_count": 19,
   "metadata": {},
   "outputs": [
    {
     "data": {
      "text/plain": [
       "(1761, 12)"
      ]
     },
     "execution_count": 19,
     "metadata": {},
     "output_type": "execute_result"
    }
   ],
   "source": [
    "JijiAshanti.shape"
   ]
  },
  {
   "cell_type": "code",
   "execution_count": 20,
   "metadata": {},
   "outputs": [],
   "source": [
    "JijiAshanti.to_csv(\"JijiAshantiFinal.csv\",index = False)"
   ]
  },
  {
   "cell_type": "code",
   "execution_count": null,
   "metadata": {},
   "outputs": [],
   "source": []
  }
 ],
 "metadata": {
  "kernelspec": {
   "display_name": "Python 3 (ipykernel)",
   "language": "python",
   "name": "python3"
  },
  "language_info": {
   "codemirror_mode": {
    "name": "ipython",
    "version": 3
   },
   "file_extension": ".py",
   "mimetype": "text/x-python",
   "name": "python",
   "nbconvert_exporter": "python",
   "pygments_lexer": "ipython3",
   "version": "3.7.11"
  }
 },
 "nbformat": 4,
 "nbformat_minor": 4
}
