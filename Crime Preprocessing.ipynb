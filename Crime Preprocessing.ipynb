{
 "cells": [
  {
   "cell_type": "markdown",
   "id": "4e4b85b9",
   "metadata": {},
   "source": [
    "### Import Libraries"
   ]
  },
  {
   "cell_type": "code",
   "execution_count": 4,
   "id": "7d7e8ae8",
   "metadata": {},
   "outputs": [],
   "source": [
    "import arcpy \n",
    "import pandas as pd\n",
    "import numpy as np\n",
    "import os"
   ]
  },
  {
   "cell_type": "markdown",
   "id": "954c2ac2",
   "metadata": {},
   "source": [
    "### Set Path"
   ]
  },
  {
   "cell_type": "code",
   "execution_count": 5,
   "id": "c3309e55",
   "metadata": {},
   "outputs": [],
   "source": [
    "path =  \"C:\\\\Users\\\\padu\\\\Desktop\\\\UrbanInstitute\\\\Proximity Variables\\\\\"\n",
    "os.chdir(path)"
   ]
  },
  {
   "cell_type": "code",
   "execution_count": 6,
   "id": "712828a7",
   "metadata": {
    "collapsed": true
   },
   "outputs": [
    {
     "data": {
      "text/html": [
       "<div>\n",
       "<style scoped>\n",
       "    .dataframe tbody tr th:only-of-type {\n",
       "        vertical-align: middle;\n",
       "    }\n",
       "\n",
       "    .dataframe tbody tr th {\n",
       "        vertical-align: top;\n",
       "    }\n",
       "\n",
       "    .dataframe thead th {\n",
       "        text-align: right;\n",
       "    }\n",
       "</style>\n",
       "<table border=\"1\" class=\"dataframe\">\n",
       "  <thead>\n",
       "    <tr style=\"text-align: right;\">\n",
       "      <th></th>\n",
       "      <th>Incident Number</th>\n",
       "      <th>Incident Date</th>\n",
       "      <th>Offense Code</th>\n",
       "      <th>STANDARDIZED STREET NUMBER</th>\n",
       "      <th>STREET</th>\n",
       "    </tr>\n",
       "  </thead>\n",
       "  <tbody>\n",
       "    <tr>\n",
       "      <th>0</th>\n",
       "      <td>20180701003</td>\n",
       "      <td>7/1/2018</td>\n",
       "      <td>23F</td>\n",
       "      <td>1900.0</td>\n",
       "      <td>MATTHEWS TOWNSHIP PKWY</td>\n",
       "    </tr>\n",
       "    <tr>\n",
       "      <th>1</th>\n",
       "      <td>20180703002</td>\n",
       "      <td>7/3/2018</td>\n",
       "      <td>23F</td>\n",
       "      <td>300.0</td>\n",
       "      <td>CLEARBROOK RD</td>\n",
       "    </tr>\n",
       "    <tr>\n",
       "      <th>2</th>\n",
       "      <td>20180703005</td>\n",
       "      <td>7/3/2018</td>\n",
       "      <td>23G</td>\n",
       "      <td>13900.0</td>\n",
       "      <td>PHEASANTWOOD PL</td>\n",
       "    </tr>\n",
       "    <tr>\n",
       "      <th>3</th>\n",
       "      <td>20180704003</td>\n",
       "      <td>7/4/2018</td>\n",
       "      <td>13A</td>\n",
       "      <td>9900.0</td>\n",
       "      <td>MATTHEWS PARK DR</td>\n",
       "    </tr>\n",
       "    <tr>\n",
       "      <th>4</th>\n",
       "      <td>20180704005</td>\n",
       "      <td>7/4/2018</td>\n",
       "      <td>13B</td>\n",
       "      <td>9900.0</td>\n",
       "      <td>E INDEPENDENCE BLVD</td>\n",
       "    </tr>\n",
       "    <tr>\n",
       "      <th>...</th>\n",
       "      <td>...</td>\n",
       "      <td>...</td>\n",
       "      <td>...</td>\n",
       "      <td>...</td>\n",
       "      <td>...</td>\n",
       "    </tr>\n",
       "    <tr>\n",
       "      <th>4137</th>\n",
       "      <td>20210628007</td>\n",
       "      <td>6/28/2021</td>\n",
       "      <td>23C</td>\n",
       "      <td>1800.0</td>\n",
       "      <td>MATTHEWS TOWNSHIP PKWY</td>\n",
       "    </tr>\n",
       "    <tr>\n",
       "      <th>4138</th>\n",
       "      <td>20210628009</td>\n",
       "      <td>6/28/2021</td>\n",
       "      <td>240</td>\n",
       "      <td>1400.0</td>\n",
       "      <td>PINEVILLE-MATTHEWS RD</td>\n",
       "    </tr>\n",
       "    <tr>\n",
       "      <th>4139</th>\n",
       "      <td>20210629005</td>\n",
       "      <td>6/29/2021</td>\n",
       "      <td>13C</td>\n",
       "      <td>800.0</td>\n",
       "      <td>CAMERON VILLAGE DR</td>\n",
       "    </tr>\n",
       "    <tr>\n",
       "      <th>4140</th>\n",
       "      <td>20210630001</td>\n",
       "      <td>6/30/2021</td>\n",
       "      <td>220</td>\n",
       "      <td>2100.0</td>\n",
       "      <td>CPCC LN</td>\n",
       "    </tr>\n",
       "    <tr>\n",
       "      <th>4141</th>\n",
       "      <td>20210630003</td>\n",
       "      <td>6/30/2021</td>\n",
       "      <td>23F</td>\n",
       "      <td>1800.0</td>\n",
       "      <td>MATTHEWS TOWNSHIP PKWY</td>\n",
       "    </tr>\n",
       "  </tbody>\n",
       "</table>\n",
       "<p>4142 rows × 5 columns</p>\n",
       "</div>"
      ],
      "text/plain": [
       "      Incident Number Incident Date Offense Code  STANDARDIZED STREET NUMBER  \\\n",
       "0         20180701003      7/1/2018          23F                      1900.0   \n",
       "1         20180703002      7/3/2018          23F                       300.0   \n",
       "2         20180703005      7/3/2018          23G                     13900.0   \n",
       "3         20180704003      7/4/2018          13A                      9900.0   \n",
       "4         20180704005      7/4/2018          13B                      9900.0   \n",
       "...               ...           ...          ...                         ...   \n",
       "4137      20210628007     6/28/2021          23C                      1800.0   \n",
       "4138      20210628009     6/28/2021          240                      1400.0   \n",
       "4139      20210629005     6/29/2021          13C                       800.0   \n",
       "4140      20210630001     6/30/2021          220                      2100.0   \n",
       "4141      20210630003     6/30/2021          23F                      1800.0   \n",
       "\n",
       "                      STREET  \n",
       "0     MATTHEWS TOWNSHIP PKWY  \n",
       "1              CLEARBROOK RD  \n",
       "2            PHEASANTWOOD PL  \n",
       "3           MATTHEWS PARK DR  \n",
       "4        E INDEPENDENCE BLVD  \n",
       "...                      ...  \n",
       "4137  MATTHEWS TOWNSHIP PKWY  \n",
       "4138   PINEVILLE-MATTHEWS RD  \n",
       "4139      CAMERON VILLAGE DR  \n",
       "4140                 CPCC LN  \n",
       "4141  MATTHEWS TOWNSHIP PKWY  \n",
       "\n",
       "[4142 rows x 5 columns]"
      ]
     },
     "execution_count": 6,
     "metadata": {},
     "output_type": "execute_result"
    }
   ],
   "source": [
    "crime  = pd.read_csv('CrimeData.csv')\n",
    "crime"
   ]
  },
  {
   "cell_type": "code",
   "execution_count": null,
   "id": "b0292b08",
   "metadata": {},
   "outputs": [],
   "source": [
    "crime['CrimeType'] = np.nan "
   ]
  },
  {
   "cell_type": "code",
   "execution_count": null,
   "id": "ab7176d3",
   "metadata": {},
   "outputs": [],
   "source": [
    "#Violent Crime \n",
    "\n",
    "crime['CrimeType'] = np.where(crime['Offense Code'].isin(['13A','13B','13C','120','09A','09B','11A','11B','11C','11D']),\n",
    "                              'Violent Crime',crime['CrimeType'])\n",
    "\n",
    "#Property Crime \n",
    "\n",
    "crime['CrimeType'] = np.where(crime['Offense Code'].isin(['200','220','240','23A','23B','23C','23E','23F','23G','23H','23D']),\n",
    "                              'Property Crime',crime['CrimeType'])\n",
    "\n",
    "#Animal Control Calls Service\n",
    "\n",
    "crime['CrimeType'] = np.where(crime['Offense Code'].isin(['97']),'Animal Control',crime['CrimeType'])\n",
    "\n",
    "#Disorder Calls for Service \n",
    "\n",
    "crime['CrimeType'] = np.where(crime['Offense Code'].isin(['31','34','40','44','49','55',\n",
    "                                                          '56','60','63','69','73','74','76','82','85','88','89','91','93']),\n",
    "                              'Disorder Calls',crime['CrimeType'])"
   ]
  },
  {
   "cell_type": "code",
   "execution_count": null,
   "id": "9571e856",
   "metadata": {},
   "outputs": [],
   "source": [
    "crime"
   ]
  },
  {
   "cell_type": "code",
   "execution_count": null,
   "id": "e39b70ec",
   "metadata": {},
   "outputs": [],
   "source": [
    "crime['Incident Date'] = crime['Incident Date'].astype('datetime64[ns]')"
   ]
  },
  {
   "cell_type": "code",
   "execution_count": null,
   "id": "62069d53",
   "metadata": {},
   "outputs": [],
   "source": [
    "crime = crime[(crime['Incident Date'] >= '2021-01-01') & (crime['Incident Date'] <= '2021-12-31')]\n",
    "\n",
    "crime"
   ]
  },
  {
   "cell_type": "code",
   "execution_count": null,
   "id": "ec693f77",
   "metadata": {},
   "outputs": [],
   "source": [
    "crime['STANDARDIZED STREET NUMBER'] = crime['STANDARDIZED STREET NUMBER'].fillna(0).astype(int)"
   ]
  },
  {
   "cell_type": "code",
   "execution_count": null,
   "id": "2d121c29",
   "metadata": {},
   "outputs": [],
   "source": [
    "crime['STANDARDIZED STREET NUMBER'] = [str(row) for row in crime['STANDARDIZED STREET NUMBER']]"
   ]
  },
  {
   "cell_type": "code",
   "execution_count": null,
   "id": "d9ca4733",
   "metadata": {},
   "outputs": [],
   "source": [
    "crime"
   ]
  },
  {
   "cell_type": "code",
   "execution_count": null,
   "id": "8290395d",
   "metadata": {},
   "outputs": [],
   "source": [
    "crime['Street Address'] = crime['STANDARDIZED STREET NUMBER'] + \" \" + crime['STREET']"
   ]
  },
  {
   "cell_type": "code",
   "execution_count": null,
   "id": "315823a4",
   "metadata": {},
   "outputs": [],
   "source": [
    "crime"
   ]
  },
  {
   "cell_type": "code",
   "execution_count": null,
   "id": "3d123a76",
   "metadata": {},
   "outputs": [],
   "source": [
    "crime = pd.DataFrame(crime[['Incident Number', 'Incident Date', 'Offense Code', 'STREET',\n",
    "                            'CrimeType', 'Street Address']])"
   ]
  },
  {
   "cell_type": "code",
   "execution_count": null,
   "id": "e270e956",
   "metadata": {},
   "outputs": [],
   "source": [
    "crime"
   ]
  },
  {
   "cell_type": "code",
   "execution_count": null,
   "id": "a6f219e5",
   "metadata": {},
   "outputs": [],
   "source": [
    "crime.to_csv('CrimeDataFY21.csv',index = False)"
   ]
  },
  {
   "cell_type": "code",
   "execution_count": null,
   "id": "5d220645",
   "metadata": {
    "scrolled": true
   },
   "outputs": [],
   "source": [
    "# HousingDensity = pd.read_csv('HousingDensity.csv')\n",
    "# HousingDensity"
   ]
  },
  {
   "cell_type": "code",
   "execution_count": null,
   "id": "4084c68a",
   "metadata": {},
   "outputs": [],
   "source": [
    "HousingDensity = pd.DataFrame(HousingDensity[['NPA', 'FY2011', 'FY2013', 'FY2015', 'FY2016', 'FY2017', 'FY2018', 'FY2020', 'FY2021','FY2022']])\n",
    "HousingDensity"
   ]
  },
  {
   "cell_type": "code",
   "execution_count": null,
   "id": "23c5f886",
   "metadata": {},
   "outputs": [],
   "source": [
    "HousingDensity.columns"
   ]
  },
  {
   "cell_type": "code",
   "execution_count": null,
   "id": "f9052af8",
   "metadata": {},
   "outputs": [],
   "source": [
    "HousingDensity.to_csv('HousingDensityQOL2023.csv')"
   ]
  },
  {
   "cell_type": "code",
   "execution_count": null,
   "id": "92b6a112",
   "metadata": {},
   "outputs": [],
   "source": []
  }
 ],
 "metadata": {
  "kernelspec": {
   "display_name": "Python 3",
   "language": "python",
   "name": "python3"
  },
  "language_info": {
   "codemirror_mode": {
    "name": "ipython",
    "version": 3
   },
   "file_extension": ".py",
   "mimetype": "text/x-python",
   "name": "python",
   "nbconvert_exporter": "python",
   "pygments_lexer": "ipython3",
   "version": "3.7.9"
  }
 },
 "nbformat": 4,
 "nbformat_minor": 5
}
