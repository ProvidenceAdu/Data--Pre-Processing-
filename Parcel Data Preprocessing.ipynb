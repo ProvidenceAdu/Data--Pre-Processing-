{
 "cells": [
  {
   "cell_type": "code",
   "execution_count": 1,
   "metadata": {},
   "outputs": [],
   "source": [
    "import pandas as pd\n",
    "import os\n",
    "import glob as gb\n",
    "import shutil"
   ]
  },
  {
   "cell_type": "code",
   "execution_count": 2,
   "metadata": {},
   "outputs": [],
   "source": [
    "path = 'C:\\\\Users\\\\padu\\\\Desktop\\\\Parcels'\n",
    "os.chdir(path)"
   ]
  },
  {
   "cell_type": "code",
   "execution_count": 3,
   "metadata": {},
   "outputs": [
    {
     "data": {
      "text/plain": [
       "'C:\\\\Users\\\\padu\\\\Desktop\\\\Parcels'"
      ]
     },
     "execution_count": 3,
     "metadata": {},
     "output_type": "execute_result"
    }
   ],
   "source": [
    "pwd"
   ]
  },
  {
   "cell_type": "code",
   "execution_count": 4,
   "metadata": {},
   "outputs": [
    {
     "data": {
      "text/plain": [
       "['C:\\\\Users\\\\padu\\\\Desktop\\\\Parcels\\\\Taxdata_2010.zip',\n",
       " 'C:\\\\Users\\\\padu\\\\Desktop\\\\Parcels\\\\Taxdata_2011.zip',\n",
       " 'C:\\\\Users\\\\padu\\\\Desktop\\\\Parcels\\\\Taxdata_2012.zip',\n",
       " 'C:\\\\Users\\\\padu\\\\Desktop\\\\Parcels\\\\Taxdata_2013.zip',\n",
       " 'C:\\\\Users\\\\padu\\\\Desktop\\\\Parcels\\\\Taxdata_2014.zip',\n",
       " 'C:\\\\Users\\\\padu\\\\Desktop\\\\Parcels\\\\Taxdata_2015.zip',\n",
       " 'C:\\\\Users\\\\padu\\\\Desktop\\\\Parcels\\\\Taxdata_2016.zip',\n",
       " 'C:\\\\Users\\\\padu\\\\Desktop\\\\Parcels\\\\Taxdata_2017.zip',\n",
       " 'C:\\\\Users\\\\padu\\\\Desktop\\\\Parcels\\\\Taxdata_2018.zip',\n",
       " 'C:\\\\Users\\\\padu\\\\Desktop\\\\Parcels\\\\Taxdata_2019.zip',\n",
       " 'C:\\\\Users\\\\padu\\\\Desktop\\\\Parcels\\\\Taxdata_2020.zip',\n",
       " 'C:\\\\Users\\\\padu\\\\Desktop\\\\Parcels\\\\Taxdata_2021.zip']"
      ]
     },
     "execution_count": 4,
     "metadata": {},
     "output_type": "execute_result"
    }
   ],
   "source": [
    "Zipfiles = gb.glob(path + \"/*.zip\")\n",
    "Zipfiles"
   ]
  },
  {
   "cell_type": "code",
   "execution_count": 5,
   "metadata": {},
   "outputs": [],
   "source": [
    "for row in Zipfiles:\n",
    "    shutil.unpack_archive(row, path)"
   ]
  },
  {
   "cell_type": "code",
   "execution_count": null,
   "metadata": {},
   "outputs": [],
   "source": []
  }
 ],
 "metadata": {
  "kernelspec": {
   "display_name": "Python 3",
   "language": "python",
   "name": "python3"
  },
  "language_info": {
   "codemirror_mode": {
    "name": "ipython",
    "version": 3
   },
   "file_extension": ".py",
   "mimetype": "text/x-python",
   "name": "python",
   "nbconvert_exporter": "python",
   "pygments_lexer": "ipython3",
   "version": "3.7.9"
  }
 },
 "nbformat": 4,
 "nbformat_minor": 4
}
