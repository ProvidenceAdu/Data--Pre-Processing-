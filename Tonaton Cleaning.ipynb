{
 "cells": [
  {
   "cell_type": "code",
   "execution_count": 3,
   "metadata": {},
   "outputs": [],
   "source": [
    "import requests\n",
    "import time\n",
    "from bs4 import BeautifulSoup\n",
    "from random import sample \n",
    "import re\n",
    "import glob as gb\n",
    "import pandas as pd \n",
    "import shutil as sh\n",
    "import os\n",
    "import json\n",
    "import csv\n",
    "from datetime import datetime"
   ]
  },
  {
   "cell_type": "code",
   "execution_count": 4,
   "metadata": {},
   "outputs": [],
   "source": [
    "path = \"C:\\\\Users\\\\padu\\\\Desktop\\\\ResearchCollab\\\\Tonaton\\\\\"\n",
    "os.chdir(path)"
   ]
  },
  {
   "cell_type": "code",
   "execution_count": 5,
   "metadata": {},
   "outputs": [],
   "source": [
    "All1 = gb.glob(path + \"/Tonaton*.csv\")\n",
    "All2 = gb.glob(path + \"/TonatonHomesAshanti*.csv\")\n",
    "diff = set(All1).difference(set(All2))\n",
    "All = list(diff)\n",
    "# All"
   ]
  },
  {
   "cell_type": "code",
   "execution_count": 6,
   "metadata": {},
   "outputs": [],
   "source": [
    "Tonaton = (pd.read_csv(file) for file in All)\n",
    "Tonaton  = pd.concat(Tonaton, ignore_index=True)"
   ]
  },
  {
   "cell_type": "code",
   "execution_count": 7,
   "metadata": {},
   "outputs": [],
   "source": [
    "# Tonaton"
   ]
  },
  {
   "cell_type": "code",
   "execution_count": 8,
   "metadata": {},
   "outputs": [],
   "source": [
    "Tonaton.drop('Unnamed: 0',axis = 1, inplace = True)"
   ]
  },
  {
   "cell_type": "code",
   "execution_count": 9,
   "metadata": {},
   "outputs": [
    {
     "data": {
      "text/plain": [
       "Index(['Title', 'price', 'description', 'Landmark', 'Size', 'Beds', 'Baths',\n",
       "       'URL'],\n",
       "      dtype='object')"
      ]
     },
     "execution_count": 9,
     "metadata": {},
     "output_type": "execute_result"
    }
   ],
   "source": [
    "Tonaton.columns"
   ]
  },
  {
   "cell_type": "code",
   "execution_count": 10,
   "metadata": {},
   "outputs": [],
   "source": [
    "Tonaton['Beds'] = [text.strip(\"Beds:\") for text in Tonaton['Beds']]\n",
    "Tonaton['Baths'] = [text.strip(\"Baths:\") for text in Tonaton['Baths']]\n",
    "Tonaton['Title'] = [text.lower() for text in Tonaton['Title']]\n",
    "Tonaton['Landmark'] = [str(text).replace(\"Street / Landmark:\",\"\") for text in Tonaton['Landmark']]\n",
    "Tonaton['price'] = [text.strip(\"GHâµ\") for text in Tonaton['price']]\n",
    "Tonaton['Title'] = [BeautifulSoup(row,'html.parser').get_text().rstrip('\\n\\n').strip() for row in Tonaton['Title']]"
   ]
  },
  {
   "cell_type": "code",
   "execution_count": 11,
   "metadata": {},
   "outputs": [],
   "source": [
    "Tonaton.drop_duplicates(subset = 'description', inplace = True)"
   ]
  },
  {
   "cell_type": "code",
   "execution_count": 12,
   "metadata": {},
   "outputs": [],
   "source": [
    "Tonaton.drop_duplicates(subset = \"Title\", inplace = True)"
   ]
  },
  {
   "cell_type": "code",
   "execution_count": 13,
   "metadata": {},
   "outputs": [
    {
     "data": {
      "text/plain": [
       "(11066, 8)"
      ]
     },
     "execution_count": 13,
     "metadata": {},
     "output_type": "execute_result"
    }
   ],
   "source": [
    "Tonaton.shape"
   ]
  },
  {
   "cell_type": "code",
   "execution_count": 14,
   "metadata": {},
   "outputs": [],
   "source": [
    "path = \"C:\\\\Users\\\\padu\\\\Desktop\\\\ResearchCollab\\\\Tonaton\\\\Final\"\n",
    "os.chdir(path)"
   ]
  },
  {
   "cell_type": "code",
   "execution_count": 15,
   "metadata": {},
   "outputs": [],
   "source": [
    "Tonaton.to_csv(\"TonatonFinal.csv\",index= False)"
   ]
  },
  {
   "cell_type": "code",
   "execution_count": null,
   "metadata": {},
   "outputs": [],
   "source": []
  },
  {
   "cell_type": "code",
   "execution_count": 16,
   "metadata": {},
   "outputs": [],
   "source": [
    "path = \"C:\\\\Users\\\\padu\\\\Desktop\\\\ResearchCollab\\\\Tonaton\\\\\"\n",
    "os.chdir(path)"
   ]
  },
  {
   "cell_type": "code",
   "execution_count": 17,
   "metadata": {},
   "outputs": [],
   "source": [
    "All = gb.glob(path + \"/TonatonHomesAshanti*.csv\")\n",
    "# All"
   ]
  },
  {
   "cell_type": "code",
   "execution_count": 18,
   "metadata": {},
   "outputs": [],
   "source": [
    "TonatonAsh = (pd.read_csv(file) for file in All)\n",
    "TonatonAshanti  = pd.concat(TonatonAsh, ignore_index=True)"
   ]
  },
  {
   "cell_type": "code",
   "execution_count": 19,
   "metadata": {},
   "outputs": [
    {
     "data": {
      "text/html": [
       "<div>\n",
       "<style scoped>\n",
       "    .dataframe tbody tr th:only-of-type {\n",
       "        vertical-align: middle;\n",
       "    }\n",
       "\n",
       "    .dataframe tbody tr th {\n",
       "        vertical-align: top;\n",
       "    }\n",
       "\n",
       "    .dataframe thead th {\n",
       "        text-align: right;\n",
       "    }\n",
       "</style>\n",
       "<table border=\"1\" class=\"dataframe\">\n",
       "  <thead>\n",
       "    <tr style=\"text-align: right;\">\n",
       "      <th></th>\n",
       "      <th>Title</th>\n",
       "      <th>price</th>\n",
       "      <th>description</th>\n",
       "      <th>Landmark</th>\n",
       "      <th>Size</th>\n",
       "      <th>Beds</th>\n",
       "      <th>Baths</th>\n",
       "      <th>URL</th>\n",
       "    </tr>\n",
       "  </thead>\n",
       "  <tbody>\n",
       "    <tr>\n",
       "      <th>0</th>\n",
       "      <td>Four bedroom House at Ejisu-Adadientem for sale</td>\n",
       "      <td>200,000</td>\n",
       "      <td>Wall and gated, this house is on a full plot w...</td>\n",
       "      <td>Street / Landmark:Ejisu</td>\n",
       "      <td>Size:80 m²</td>\n",
       "      <td>4</td>\n",
       "      <td>4</td>\n",
       "      <td>https://tonaton.com//en/ad/four-bedroom-house-...</td>\n",
       "    </tr>\n",
       "    <tr>\n",
       "      <th>1</th>\n",
       "      <td>Affordable 3 Bedrooms House @ Tanoso IPT</td>\n",
       "      <td>250,000</td>\n",
       "      <td>Affordable 3 Bedrooms House @ Tanoso IPTKitche...</td>\n",
       "      <td>Street / Landmark:Tanoso IPT</td>\n",
       "      <td>Size:50*100 sqft</td>\n",
       "      <td>3</td>\n",
       "      <td>2</td>\n",
       "      <td>https://tonaton.com//en/ad/affordable-3-bedroo...</td>\n",
       "    </tr>\n",
       "    <tr>\n",
       "      <th>2</th>\n",
       "      <td>7 bedrooms house at Ahodwo Atasomaso residenti...</td>\n",
       "      <td>2,100,000</td>\n",
       "      <td>This property is available for sale at Ahodwo ...</td>\n",
       "      <td>Street / Landmark:Ahodwo Atasomaso residential...</td>\n",
       "      <td>Size:100/100 sqft</td>\n",
       "      <td>7</td>\n",
       "      <td>7</td>\n",
       "      <td>https://tonaton.com//en/ad/7-bedrooms-house-at...</td>\n",
       "    </tr>\n",
       "    <tr>\n",
       "      <th>3</th>\n",
       "      <td>5 Bedrooms for sale</td>\n",
       "      <td>280,000</td>\n",
       "      <td>1. 5 Bedrooms 2. Each room with toilet and bat...</td>\n",
       "      <td>Street / Landmark:Atwima Boko new site.( Kwadaso)</td>\n",
       "      <td>Size:90*80 sqft</td>\n",
       "      <td>5</td>\n",
       "      <td>6</td>\n",
       "      <td>https://tonaton.com//en/ad/5-bedrooms-for-sale...</td>\n",
       "    </tr>\n",
       "    <tr>\n",
       "      <th>4</th>\n",
       "      <td>5 bedrooms house at Sokoban near Ahodwo Daban</td>\n",
       "      <td>500,000</td>\n",
       "      <td>This nice house is available for rent at Sokob...</td>\n",
       "      <td>Street / Landmark:Sokoban</td>\n",
       "      <td>Size:100/100 sqft</td>\n",
       "      <td>5</td>\n",
       "      <td>5</td>\n",
       "      <td>https://tonaton.com//en/ad/5-bedrooms-house-at...</td>\n",
       "    </tr>\n",
       "    <tr>\n",
       "      <th>...</th>\n",
       "      <td>...</td>\n",
       "      <td>...</td>\n",
       "      <td>...</td>\n",
       "      <td>...</td>\n",
       "      <td>...</td>\n",
       "      <td>...</td>\n",
       "      <td>...</td>\n",
       "      <td>...</td>\n",
       "    </tr>\n",
       "    <tr>\n",
       "      <th>58804</th>\n",
       "      <td>Fully furnished Hotel for sale at Tech Oduom A...</td>\n",
       "      <td>3,100,000</td>\n",
       "      <td>The hotel still operate and it's fully furnish...</td>\n",
       "      <td>Tech Oduom Anwomaso</td>\n",
       "      <td>70/180 sqft</td>\n",
       "      <td>9</td>\n",
       "      <td>9</td>\n",
       "      <td>https://tonaton.com/en/ad/fully-furnished-hote...</td>\n",
       "    </tr>\n",
       "    <tr>\n",
       "      <th>58805</th>\n",
       "      <td>5 Bedrooms House @ Tech Aprade</td>\n",
       "      <td>550,000</td>\n",
       "      <td>5 Bedrooms House @ Tech Aprade It has 3 washro...</td>\n",
       "      <td>Tech Aprade Mmesuam</td>\n",
       "      <td>100 sqft</td>\n",
       "      <td>5</td>\n",
       "      <td>3</td>\n",
       "      <td>https://tonaton.com/en/ad/5-bedrooms-house-tec...</td>\n",
       "    </tr>\n",
       "    <tr>\n",
       "      <th>58806</th>\n",
       "      <td>Uncompleted Two Storey Building at Ahenema Kok...</td>\n",
       "      <td>300,000</td>\n",
       "      <td>Diamond City Estate Developers is selling an u...</td>\n",
       "      <td>Ahenema Kokoben in Kumasi</td>\n",
       "      <td>100.9 sqft</td>\n",
       "      <td>6</td>\n",
       "      <td>4</td>\n",
       "      <td>https://tonaton.com/en/ad/uncompleted-two-stor...</td>\n",
       "    </tr>\n",
       "    <tr>\n",
       "      <th>58807</th>\n",
       "      <td>5 executive master bedrooms ensuit + boys quar...</td>\n",
       "      <td>900,000</td>\n",
       "      <td>5 master bedrooms with bathroom each + a separ...</td>\n",
       "      <td>Santasi</td>\n",
       "      <td>100/100 sqft</td>\n",
       "      <td>5</td>\n",
       "      <td>6</td>\n",
       "      <td>https://tonaton.com/en/ad/5-executive-master-b...</td>\n",
       "    </tr>\n",
       "    <tr>\n",
       "      <th>58808</th>\n",
       "      <td>6 Bedroom house (Ridge Residential area, Danya...</td>\n",
       "      <td>2,700,000</td>\n",
       "      <td>6 Bedroom house located on a huge plot of  lan...</td>\n",
       "      <td>Danyame, Near Miklin Hotel</td>\n",
       "      <td>120 sqft</td>\n",
       "      <td>6</td>\n",
       "      <td>4</td>\n",
       "      <td>https://tonaton.com/en/ad/6-bedroom-house-ridg...</td>\n",
       "    </tr>\n",
       "  </tbody>\n",
       "</table>\n",
       "<p>58809 rows × 8 columns</p>\n",
       "</div>"
      ],
      "text/plain": [
       "                                                   Title       price  \\\n",
       "0        Four bedroom House at Ejisu-Adadientem for sale     200,000   \n",
       "1               Affordable 3 Bedrooms House @ Tanoso IPT     250,000   \n",
       "2      7 bedrooms house at Ahodwo Atasomaso residenti...   2,100,000   \n",
       "3                                    5 Bedrooms for sale     280,000   \n",
       "4          5 bedrooms house at Sokoban near Ahodwo Daban     500,000   \n",
       "...                                                  ...         ...   \n",
       "58804  Fully furnished Hotel for sale at Tech Oduom A...   3,100,000   \n",
       "58805                     5 Bedrooms House @ Tech Aprade     550,000   \n",
       "58806  Uncompleted Two Storey Building at Ahenema Kok...     300,000   \n",
       "58807  5 executive master bedrooms ensuit + boys quar...     900,000   \n",
       "58808  6 Bedroom house (Ridge Residential area, Danya...   2,700,000   \n",
       "\n",
       "                                             description  \\\n",
       "0      Wall and gated, this house is on a full plot w...   \n",
       "1      Affordable 3 Bedrooms House @ Tanoso IPTKitche...   \n",
       "2      This property is available for sale at Ahodwo ...   \n",
       "3      1. 5 Bedrooms 2. Each room with toilet and bat...   \n",
       "4      This nice house is available for rent at Sokob...   \n",
       "...                                                  ...   \n",
       "58804  The hotel still operate and it's fully furnish...   \n",
       "58805  5 Bedrooms House @ Tech Aprade It has 3 washro...   \n",
       "58806  Diamond City Estate Developers is selling an u...   \n",
       "58807  5 master bedrooms with bathroom each + a separ...   \n",
       "58808  6 Bedroom house located on a huge plot of  lan...   \n",
       "\n",
       "                                                Landmark               Size  \\\n",
       "0                                Street / Landmark:Ejisu         Size:80 m²   \n",
       "1                           Street / Landmark:Tanoso IPT   Size:50*100 sqft   \n",
       "2      Street / Landmark:Ahodwo Atasomaso residential...  Size:100/100 sqft   \n",
       "3      Street / Landmark:Atwima Boko new site.( Kwadaso)    Size:90*80 sqft   \n",
       "4                              Street / Landmark:Sokoban  Size:100/100 sqft   \n",
       "...                                                  ...                ...   \n",
       "58804                                Tech Oduom Anwomaso        70/180 sqft   \n",
       "58805                                Tech Aprade Mmesuam           100 sqft   \n",
       "58806                          Ahenema Kokoben in Kumasi         100.9 sqft   \n",
       "58807                                            Santasi       100/100 sqft   \n",
       "58808                         Danyame, Near Miklin Hotel           120 sqft   \n",
       "\n",
       "      Beds Baths                                                URL  \n",
       "0        4     4  https://tonaton.com//en/ad/four-bedroom-house-...  \n",
       "1        3     2  https://tonaton.com//en/ad/affordable-3-bedroo...  \n",
       "2        7     7  https://tonaton.com//en/ad/7-bedrooms-house-at...  \n",
       "3        5     6  https://tonaton.com//en/ad/5-bedrooms-for-sale...  \n",
       "4        5     5  https://tonaton.com//en/ad/5-bedrooms-house-at...  \n",
       "...    ...   ...                                                ...  \n",
       "58804    9     9  https://tonaton.com/en/ad/fully-furnished-hote...  \n",
       "58805    5     3  https://tonaton.com/en/ad/5-bedrooms-house-tec...  \n",
       "58806    6     4  https://tonaton.com/en/ad/uncompleted-two-stor...  \n",
       "58807    5     6  https://tonaton.com/en/ad/5-executive-master-b...  \n",
       "58808    6     4  https://tonaton.com/en/ad/6-bedroom-house-ridg...  \n",
       "\n",
       "[58809 rows x 8 columns]"
      ]
     },
     "execution_count": 19,
     "metadata": {},
     "output_type": "execute_result"
    }
   ],
   "source": [
    "TonatonAshanti"
   ]
  },
  {
   "cell_type": "code",
   "execution_count": 20,
   "metadata": {},
   "outputs": [],
   "source": [
    "TonatonAshanti.drop_duplicates(subset = 'description', inplace = True)"
   ]
  },
  {
   "cell_type": "code",
   "execution_count": 21,
   "metadata": {},
   "outputs": [],
   "source": [
    "TonatonAshanti.drop_duplicates(subset = \"Title\", inplace = True)"
   ]
  },
  {
   "cell_type": "code",
   "execution_count": 22,
   "metadata": {},
   "outputs": [],
   "source": [
    "# TonatonAshanti.drop_duplicates(subset = [\"Title\", 'description'], inplace = True)"
   ]
  },
  {
   "cell_type": "code",
   "execution_count": 23,
   "metadata": {},
   "outputs": [],
   "source": [
    "TonatonAshanti['Beds'] = [text.strip(\"Beds:\") for text in TonatonAshanti['Beds']]\n",
    "TonatonAshanti['Baths'] = [text.strip(\"Baths:\") for text in TonatonAshanti['Baths']]\n",
    "TonatonAshanti['Title'] = [text.lower() for text in TonatonAshanti['Title']]\n",
    "TonatonAshanti['Landmark'] = [str(text).replace(\"Street / Landmark:\",\"\") for text in TonatonAshanti['Landmark']]\n",
    "TonatonAshanti['price'] = [text.strip(\"GHâµ\") for text in TonatonAshanti['price']]\n",
    "TonatonAshanti['Title'] = ([BeautifulSoup(row,'html.parser').get_text().rstrip('\\n\\n').strip() \n",
    "                            for row in TonatonAshanti['Title']])"
   ]
  },
  {
   "cell_type": "code",
   "execution_count": 24,
   "metadata": {},
   "outputs": [],
   "source": [
    "path = \"C:\\\\Users\\\\padu\\\\Desktop\\\\ResearchCollab\\\\Tonaton\\\\Final\"\n",
    "os.chdir(path)"
   ]
  },
  {
   "cell_type": "code",
   "execution_count": 25,
   "metadata": {},
   "outputs": [],
   "source": [
    "TonatonAshanti.to_csv(\"TonatonAshantiFinal.csv\",index= False)"
   ]
  },
  {
   "cell_type": "code",
   "execution_count": 26,
   "metadata": {},
   "outputs": [
    {
     "data": {
      "text/plain": [
       "(1719, 8)"
      ]
     },
     "execution_count": 26,
     "metadata": {},
     "output_type": "execute_result"
    }
   ],
   "source": [
    "TonatonAshanti.shape"
   ]
  },
  {
   "cell_type": "code",
   "execution_count": null,
   "metadata": {},
   "outputs": [],
   "source": []
  }
 ],
 "metadata": {
  "kernelspec": {
   "display_name": "Python 3 (ipykernel)",
   "language": "python",
   "name": "python3"
  },
  "language_info": {
   "codemirror_mode": {
    "name": "ipython",
    "version": 3
   },
   "file_extension": ".py",
   "mimetype": "text/x-python",
   "name": "python",
   "nbconvert_exporter": "python",
   "pygments_lexer": "ipython3",
   "version": "3.7.11"
  }
 },
 "nbformat": 4,
 "nbformat_minor": 4
}
